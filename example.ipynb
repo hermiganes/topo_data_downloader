{
 "cells": [
  {
   "cell_type": "markdown",
   "metadata": {},
   "source": [
    "#### Librerias"
   ]
  },
  {
   "cell_type": "code",
   "execution_count": 2,
   "metadata": {},
   "outputs": [],
   "source": [
    "import geopandas as gpd\n",
    "from src.dowload_dem import *\n"
   ]
  },
  {
   "cell_type": "markdown",
   "metadata": {},
   "source": [
    "#### Se lee el shape de la cartas 1:1000 (div10k) y del polígono del cual se quieren descargar los dem de INEGI"
   ]
  },
  {
   "cell_type": "code",
   "execution_count": 3,
   "metadata": {},
   "outputs": [],
   "source": [
    "poligono = gpd.read_file(\"inputs/cdmx.zip\")\n",
    "div10 = gpd.read_file(\"inputs/div10k.zip\")"
   ]
  },
  {
   "cell_type": "markdown",
   "metadata": {},
   "source": [
    "#### Se optienen las cartas a descargar \n",
    "\n",
    "Mediante la intersección de las cartas 1:1000  con el polígono"
   ]
  },
  {
   "cell_type": "code",
   "execution_count": 5,
   "metadata": {},
   "outputs": [
    {
     "data": {
      "text/plain": [
       "<Axes: >"
      ]
     },
     "execution_count": 5,
     "metadata": {},
     "output_type": "execute_result"
    },
    {
     "data": {
      "image/png": "[encoded data removed]",
      "text/plain": [
       "<Figure size 640x480 with 1 Axes>"
      ]
     },
     "metadata": {},
     "output_type": "display_data"
    }
   ],
   "source": [
    "cartas = div10[div10.geometry.intersects(poligono.union_all())]\n",
    "cartas.plot()"
   ]
  },
  {
   "cell_type": "markdown",
   "metadata": {},
   "source": [
    "#### Opción 1: Descargar DEM de INEGI por su clave, tipo y extensión \n",
    "\n",
    "En este ejemplo se van a descargar los primeros 3 dem de terreno en formato '.grid' de INEGI"
   ]
  },
  {
   "cell_type": "code",
   "execution_count": 6,
   "metadata": {},
   "outputs": [
    {
     "name": "stdout",
     "output_type": "stream",
     "text": [
      "e14a29e2 descargado y guardado\n",
      "e14a29e3 descargado y guardado\n",
      "e14a29e4 descargado y guardado\n"
     ]
    }
   ],
   "source": [
    "datos = {\n",
    "    \"clave\": \"\", #clave de la carta 1:10000\n",
    "    \"terreno\": True, #Terreno' (True) o 'Superficie' (False)\n",
    "    \"ext\"  : 'ascii' , #  'ascii', 'bil', 'grid', 'tif'\n",
    "    \"folder_output\": 'output/', #carpeta de salida\n",
    "}\n",
    "\n",
    "inegi_api = INEGI_API()\n",
    "\n",
    "for clave in cartas[\"clave10k\"].to_list()[0:3]: # Solo de descargan 3 de los 57 DEM\n",
    "    datos[\"clave\"]= clave\n",
    "    inegi_api.download_dem(**datos)\n"
   ]
  },
  {
   "cell_type": "markdown",
   "metadata": {},
   "source": [
    "#### Opción 2. Descargar DEM por liga\n",
    "\n",
    "Para este ejemplo, utilizaremos el método **crear_df** de la clase **ProcesadorCartas** para generar un DataFrame que contenga todos los Modelos Digitales de Elevación (DEM) disponibles por carta. \n",
    "\n",
    "Para utilizar **ProcesadorCartas**, es necesario proporcionarle como parámetros la instancia de la clase INEGI_API y una lista de las claves de las cartas a escala 1:10,000."
   ]
  },
  {
   "cell_type": "code",
   "execution_count": 12,
   "metadata": {},
   "outputs": [
    {
     "data": {
      "text/html": [
       "<div>\n",
       "<style scoped>\n",
       "    .dataframe tbody tr th:only-of-type {\n",
       "        vertical-align: middle;\n",
       "    }\n",
       "\n",
       "    .dataframe tbody tr th {\n",
       "        vertical-align: top;\n",
       "    }\n",
       "\n",
       "    .dataframe thead th {\n",
       "        text-align: right;\n",
       "    }\n",
       "</style>\n",
       "<table border=\"1\" class=\"dataframe\">\n",
       "  <thead>\n",
       "    <tr style=\"text-align: right;\">\n",
       "      <th></th>\n",
       "      <th>key</th>\n",
       "      <th>titulo</th>\n",
       "      <th>entidad</th>\n",
       "      <th>url</th>\n",
       "      <th>edicion</th>\n",
       "      <th>af</th>\n",
       "      <th>escala</th>\n",
       "      <th>clave_carta</th>\n",
       "      <th>datum</th>\n",
       "      <th>iin</th>\n",
       "      <th>...</th>\n",
       "      <th>peso</th>\n",
       "      <th>origen</th>\n",
       "      <th>web</th>\n",
       "      <th>control</th>\n",
       "      <th>url.valor</th>\n",
       "      <th>url.target</th>\n",
       "      <th>url.estilo</th>\n",
       "      <th>adicional.estilo</th>\n",
       "      <th>tipo</th>\n",
       "      <th>id</th>\n",
       "    </tr>\n",
       "  </thead>\n",
       "  <tbody>\n",
       "    <tr>\n",
       "      <th>0</th>\n",
       "      <td>702825770617</td>\n",
       "      <td>Modelos Digitales de Elevación de Alta Resoluc...</td>\n",
       "      <td>México</td>\n",
       "      <td>/app/biblioteca/ficha.html?upc=702825770617</td>\n",
       "      <td>2011</td>\n",
       "      <td>None</td>\n",
       "      <td>1:10 000</td>\n",
       "      <td>e14a29e2</td>\n",
       "      <td>ITRF92</td>\n",
       "      <td>False</td>\n",
       "      <td>...</td>\n",
       "      <td>4.04</td>\n",
       "      <td>1</td>\n",
       "      <td>False</td>\n",
       "      <td>False</td>\n",
       "      <td>/contenidos/productos/prod_serv/contenidos/esp...</td>\n",
       "      <td>_blank</td>\n",
       "      <td></td>\n",
       "      <td></td>\n",
       "      <td>Terreno</td>\n",
       "      <td>702825770617_0</td>\n",
       "    </tr>\n",
       "    <tr>\n",
       "      <th>1</th>\n",
       "      <td>702825770594</td>\n",
       "      <td>Modelos Digitales de Elevación de Alta Resoluc...</td>\n",
       "      <td>México</td>\n",
       "      <td>/app/biblioteca/ficha.html?upc=702825770594</td>\n",
       "      <td>2011</td>\n",
       "      <td>None</td>\n",
       "      <td>1:10 000</td>\n",
       "      <td>e14a29e2</td>\n",
       "      <td>ITRF92</td>\n",
       "      <td>False</td>\n",
       "      <td>...</td>\n",
       "      <td>4.11</td>\n",
       "      <td>1</td>\n",
       "      <td>False</td>\n",
       "      <td>False</td>\n",
       "      <td>/contenidos/productos/prod_serv/contenidos/esp...</td>\n",
       "      <td>_blank</td>\n",
       "      <td></td>\n",
       "      <td></td>\n",
       "      <td>Superficie</td>\n",
       "      <td>702825770594_1</td>\n",
       "    </tr>\n",
       "    <tr>\n",
       "      <th>2</th>\n",
       "      <td>702825770600</td>\n",
       "      <td>Modelos Digitales de Elevación de Alta Resoluc...</td>\n",
       "      <td>México</td>\n",
       "      <td>/app/biblioteca/ficha.html?upc=702825770600</td>\n",
       "      <td>2011</td>\n",
       "      <td>None</td>\n",
       "      <td>1:10 000</td>\n",
       "      <td>e14a29e2</td>\n",
       "      <td>ITRF92</td>\n",
       "      <td>False</td>\n",
       "      <td>...</td>\n",
       "      <td>9.79</td>\n",
       "      <td>1</td>\n",
       "      <td>False</td>\n",
       "      <td>False</td>\n",
       "      <td>/contenidos/productos/prod_serv/contenidos/esp...</td>\n",
       "      <td>_blank</td>\n",
       "      <td></td>\n",
       "      <td></td>\n",
       "      <td>Terreno</td>\n",
       "      <td>702825770600_2</td>\n",
       "    </tr>\n",
       "  </tbody>\n",
       "</table>\n",
       "<p>3 rows × 29 columns</p>\n",
       "</div>"
      ],
      "text/plain": [
       "            key                                             titulo entidad  \\\n",
       "0  702825770617  Modelos Digitales de Elevación de Alta Resoluc...  México   \n",
       "1  702825770594  Modelos Digitales de Elevación de Alta Resoluc...  México   \n",
       "2  702825770600  Modelos Digitales de Elevación de Alta Resoluc...  México   \n",
       "\n",
       "                                           url edicion    af    escala  \\\n",
       "0  /app/biblioteca/ficha.html?upc=702825770617    2011  None  1:10 000   \n",
       "1  /app/biblioteca/ficha.html?upc=702825770594    2011  None  1:10 000   \n",
       "2  /app/biblioteca/ficha.html?upc=702825770600    2011  None  1:10 000   \n",
       "\n",
       "  clave_carta   datum    iin  ...  peso origen    web control  \\\n",
       "0    e14a29e2  ITRF92  False  ...  4.04      1  False   False   \n",
       "1    e14a29e2  ITRF92  False  ...  4.11      1  False   False   \n",
       "2    e14a29e2  ITRF92  False  ...  9.79      1  False   False   \n",
       "\n",
       "                                           url.valor url.target url.estilo  \\\n",
       "0  /contenidos/productos/prod_serv/contenidos/esp...     _blank              \n",
       "1  /contenidos/productos/prod_serv/contenidos/esp...     _blank              \n",
       "2  /contenidos/productos/prod_serv/contenidos/esp...     _blank              \n",
       "\n",
       "  adicional.estilo        tipo              id  \n",
       "0                      Terreno  702825770617_0  \n",
       "1                   Superficie  702825770594_1  \n",
       "2                      Terreno  702825770600_2  \n",
       "\n",
       "[3 rows x 29 columns]"
      ]
     },
     "execution_count": 12,
     "metadata": {},
     "output_type": "execute_result"
    }
   ],
   "source": [
    "# Se crea la lista de claves\n",
    "lista_cartas = cartas['clave10k'].drop_duplicates().to_list()\n",
    "\n",
    "# Se crea la instancia de ProcesadorCartas\n",
    "procesador = ProcesadorCartas(inegi_api, lista_cartas)\n",
    "\n",
    "# Se crea el DataFrame con los DEM disponibles por carta\n",
    "df = procesador.crear_df()\n",
    "df.head(3)"
   ]
  },
  {
   "cell_type": "markdown",
   "metadata": {},
   "source": [
    "La salida anterior, muestra los valores de cada solicitud 'POST' para cada una de las cartas. \n",
    "________________________\n",
    "\n",
    "\n",
    "El segundo paso es filtrar el DataFrame obtenido para descargar los DEM de interés. \n",
    "\n",
    "- Si el formato ('ascii', 'bil', 'grid', 'tif') no es crucial y solo se desea obtener el DEM más reciente para cada carta, se puede utilizar: \n",
    "\n",
    "    ``` python\n",
    "    df_filtrado = procesador.filtrar_cartas(df=df, terreno=True, quick=True)\n",
    "    ```\n",
    "- Por el contrario, si se desea establecer un orden de preferencia específico para los formatos, se puede usar:\n",
    "    ``` python\n",
    "    df_filtrado = procesador.filtrar_cartas(df=df, terreno=True, formatos=['ascii', 'bil', 'grid', 'tif'])\n",
    "    ```\n",
    "\n",
    "    Aquí se especifica que el formato preferido es 'ascii'; si no está disponible, se buscará 'bil', y así sucesivamente. Ajuste el orden según sus preferencias específicas\n"
   ]
  },
  {
   "cell_type": "code",
   "execution_count": 13,
   "metadata": {},
   "outputs": [],
   "source": [
    "df_filtrado = procesador.filtrar_cartas(df=df, quick=True)"
   ]
  },
  {
   "cell_type": "markdown",
   "metadata": {},
   "source": [
    "Finalmente para descargar los DEM, se utilizará el metodo **download_dem** con los argumentos de clave y enlace, como se muestra a continuación:"
   ]
  },
  {
   "cell_type": "code",
   "execution_count": 14,
   "metadata": {},
   "outputs": [
    {
     "name": "stdout",
     "output_type": "stream",
     "text": [
      "e14a39d2 descargado y guardado\n",
      "e14a39d1 descargado y guardado\n",
      "e14a39d4 descargado y guardado\n"
     ]
    }
   ],
   "source": [
    "for index, row in df_filtrado.head(3).iterrows():\n",
    "    inegi_api.download_dem(clave=row[\"clave_carta\"],liga=row['url.valor'])"
   ]
  },
  {
   "cell_type": "markdown",
   "metadata": {},
   "source": [
    "El parámetro \"clave\" se utiliza para nombrar el archivo ZIP descargado, aunque es opcional cuando se descarga el DEM por enlace, se recomienda usarlo para tener control sobre los archivos descargados.\n",
    "\n",
    "Si no se proporciona la clave, se utiliza el valor 'upc' del enlace para nombrar el archivo ZIP y la salida se verá así:\n",
    "\n",
    "``` python\n",
    "889463853473 descargado y guardado\n",
    "889463853466 descargado y guardado\n",
    "...\n",
    "``` \n"
   ]
  },
  {
   "cell_type": "markdown",
   "metadata": {},
   "source": [
    "####  El contenido del DEM descargado se vería así:\n",
    "\n",
    "![Salida-DEM](images/salida_dem.png)\n",
    "\n",
    "\n",
    "**Nota**: El contenido del archivo ZIP utiliza barras invertidas (\"\\\") como separadores, comúnmente empleados en entornos Windows.\n",
    "\n",
    "\n"
   ]
  },
  {
   "cell_type": "markdown",
   "metadata": {},
   "source": [
    "#### A continuación se muestra el archivo DEM descargado \n",
    "\n",
    "![Mapa-DEM](images/map_dem.png)"
   ]
  },
  {
   "cell_type": "markdown",
   "metadata": {},
   "source": []
  }
 ],
 "metadata": {
  "kernelspec": {
   "display_name": "topo_data_downloader-pAsZzwe1",
   "language": "python",
   "name": "python3"
  },
  "language_info": {
   "codemirror_mode": {
    "name": "ipython",
    "version": 3
   },
   "file_extension": ".py",
   "mimetype": "text/x-python",
   "name": "python",
   "nbconvert_exporter": "python",
   "pygments_lexer": "ipython3",
   "version": "3.10.12"
  }
 },
 "nbformat": 4,
 "nbformat_minor": 2
}
